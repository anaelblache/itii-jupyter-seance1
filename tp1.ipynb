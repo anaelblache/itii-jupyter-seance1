{
 "cells": [
  {
   "cell_type": "code",
   "execution_count": 13,
   "metadata": {},
   "outputs": [
    {
     "name": "stdout",
     "output_type": "stream",
     "text": [
      "Entrez le rayon (en cm) :5\n",
      "Entrez la hauteur (en cm) :8\n",
      "L'aire est de  209.43951023931953 cm^3\n"
     ]
    }
   ],
   "source": [
    "from numpy import *\n",
    "\n",
    "a = input(\"Entrez le rayon (en cm) : \")\n",
    "b = input(\"Entrez la hauteur (en cm) : \")\n",
    "\n",
    "a = float(a)\n",
    "b = float(b)\n",
    "\n",
    "v = (1/3)*pi*(a**2)*b\n",
    "\n",
    "print(\"L'aire est de \",v, \"cm^3\")"
   ]
  },
  {
   "cell_type": "code",
   "execution_count": 18,
   "metadata": {},
   "outputs": [
    {
     "name": "stdout",
     "output_type": "stream",
     "text": [
      "Entrer l'entier n :5\n",
      "La somme de la série est de  225\n"
     ]
    }
   ],
   "source": [
    "a = input(\"Entrer l'entier n : \")\n",
    "b = 0\n",
    "a = int (a)\n",
    "b = int(b)\n",
    "a += 1\n",
    "\n",
    "for i in range(a) :\n",
    "    b += i**3\n",
    "\n",
    "print(\"La somme de la série est de\", b)"
   ]
  },
  {
   "cell_type": "code",
   "execution_count": 19,
   "metadata": {},
   "outputs": [
    {
     "name": "stdout",
     "output_type": "stream",
     "text": [
      "Entrer l'entier n :5\n",
      "La somme de la série est de  15\n"
     ]
    }
   ],
   "source": [
    "a = input(\"Entrer l'entier n : \")\n",
    "b = 0\n",
    "a = int (a)\n",
    "b = int(b)\n",
    "a += 1\n",
    "\n",
    "for i in range(a) :\n",
    "    b += i\n",
    "\n",
    "print(\"La somme de la série est de\", b)"
   ]
  },
  {
   "cell_type": "code",
   "execution_count": 7,
   "metadata": {},
   "outputs": [
    {
     "name": "stdout",
     "output_type": "stream",
     "text": [
      "Il y a 300 fois 1 de 1 à 999\n"
     ]
    },
    {
     "data": {
      "text/plain": [
       "300"
      ]
     },
     "execution_count": 7,
     "metadata": {},
     "output_type": "execute_result"
    }
   ],
   "source": [
    "a = 0\n",
    "a = int(a)\n",
    "\n",
    "for i in range(1000) :\n",
    "    i = str(i)\n",
    "    a += i.count(\"1\")\n",
    "\n",
    "print(\"Il y a\", a, \"fois 1 de 1 à 999\")"
   ]
  },
  {
   "cell_type": "code",
   "execution_count": 11,
   "metadata": {},
   "outputs": [
    {
     "name": "stdout",
     "output_type": "stream",
     "text": [
      "Entrez un entier : 4578\n",
      "L'entier est composé de : 4 fois 1000 5 fois 100 7 fois 10 8 fois 1 \n"
     ]
    }
   ],
   "source": [
    "a = input(\"Entrez un entier : \")\n",
    "a = int(a)\n",
    "a = str(a)\n",
    "b = len(a)\n",
    "b -= 1\n",
    "string =(\"L'entier est composé de : \")\n",
    "\n",
    "for c in a :\n",
    "    d = 1\n",
    "    for i in range(b) :\n",
    "        d = d * 10\n",
    "    b -= 1\n",
    "    string += c\n",
    "    string += \" fois \"\n",
    "    string += str(d)\n",
    "    string += \" \"\n",
    "\n",
    "print(string)"
   ]
  },
  {
   "cell_type": "code",
   "execution_count": 1,
   "metadata": {},
   "outputs": [
    {
     "name": "stdout",
     "output_type": "stream",
     "text": [
      "Pi est approximé à 3.14252\n"
     ]
    }
   ],
   "source": [
    "from math import sqrt\n",
    "from random import random\n",
    "\n",
    "a = 1000000\n",
    "b = 0\n",
    "\n",
    "for i in range(a):\n",
    "    x = random()\n",
    "    y = random()\n",
    "    r = sqrt(x**2+y**2)\n",
    "    if r <= 1:\n",
    "        b += 1\n",
    "\n",
    "Pi = 4 * b / a\n",
    "\n",
    "print(\"Pi est approximé à\", Pi)"
   ]
  }
 ],
 "metadata": {
  "kernelspec": {
   "display_name": "Python 3",
   "language": "python",
   "name": "python3"
  },
  "language_info": {
   "codemirror_mode": {
    "name": "ipython",
    "version": 3
   },
   "file_extension": ".py",
   "mimetype": "text/x-python",
   "name": "python",
   "nbconvert_exporter": "python",
   "pygments_lexer": "ipython3",
   "version": "3.7.0"
  }
 },
 "nbformat": 4,
 "nbformat_minor": 2
}
